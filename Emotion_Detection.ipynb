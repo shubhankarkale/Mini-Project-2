{
 "cells": [
  {
   "cell_type": "code",
   "execution_count": 1,
   "metadata": {},
   "outputs": [],
   "source": [
    "import tensorflow as tf\n",
    "from tensorflow.keras.preprocessing.image import img_to_array\n",
    "from tensorflow.keras.preprocessing import image\n",
    "import cv2\n",
    "import numpy as np"
   ]
  },
  {
   "cell_type": "code",
   "execution_count": null,
   "metadata": {
    "colab": {
     "base_uri": "https://localhost:8080/"
    },
    "id": "NR_JC3GuUeTH",
    "outputId": "60ca51c2-cae8-4bea-c245-aa418b1eebeb"
   },
   "outputs": [],
   "source": [
    "from zipfile import ZipFile\n",
    "\n",
    "file_name = \"/content/drive/MyDrive/Dataset.zip\"\n",
    "\n",
    "with ZipFile(file_name, 'r') as zip:\n",
    "    zip.printdir()\n",
    "    zip.extractall()"
   ]
  },
  {
   "cell_type": "code",
   "execution_count": null,
   "metadata": {
    "id": "i4GlHlenUefC"
   },
   "outputs": [],
   "source": [
    "Data = \"/content/Dataset\""
   ]
  },
  {
   "cell_type": "code",
   "execution_count": null,
   "metadata": {
    "id": "jox0DeEoUepI"
   },
   "outputs": [],
   "source": [
    "classes = [\"angry\",\"disgust\",\"fear\",\"happy\",\"neutral\",\"sad\",\"surprise\"]"
   ]
  },
  {
   "cell_type": "code",
   "execution_count": null,
   "metadata": {
    "colab": {
     "base_uri": "https://localhost:8080/",
     "height": 267
    },
    "id": "k4s4qzymUexG",
    "outputId": "b90c4f07-6118-44f6-a2d0-31e449f28f0c"
   },
   "outputs": [],
   "source": [
    "import os\n",
    "import matplotlib.pyplot as plt\n",
    "for i in classes:\n",
    "    path = os.path.join(Data,i)\n",
    "    for img in os.listdir(path):\n",
    "        img_array = cv2.imread(os.path.join(path,img))\n",
    "        plt.imshow(cv2.cvtColor(img_array,cv2.COLOR_BGR2RGB))\n",
    "        plt.show()\n",
    "        break;\n",
    "    break;"
   ]
  },
  {
   "cell_type": "code",
   "execution_count": null,
   "metadata": {
    "colab": {
     "base_uri": "https://localhost:8080/",
     "height": 269
    },
    "id": "L0ieexo6Ue5U",
    "outputId": "a9626367-b2ce-448e-a657-5eea33df7789"
   },
   "outputs": [],
   "source": [
    "img_size = 224\n",
    "new_array = cv2.resize(img_array,(img_size,img_size))\n",
    "plt.imshow(cv2.cvtColor(new_array,cv2.COLOR_BGR2RGB))\n",
    "plt.show()"
   ]
  },
  {
   "cell_type": "code",
   "execution_count": null,
   "metadata": {},
   "outputs": [],
   "source": [
    "from keras.preprocessing.image import ImageDataGenerator, array_to_img, img_to_array, load_img\n",
    "\n",
    "datagen = ImageDataGenerator(\n",
    "        rotation_range=40,\n",
    "        width_shift_range=0.2,\n",
    "        height_shift_range=0.2,\n",
    "        shear_range=0.2,\n",
    "        zoom_range=0.2,\n",
    "        horizontal_flip=True,\n",
    "        fill_mode='nearest')\n",
    "\n",
    "for i in classes:\n",
    "    path = os.path.join(Data,i)\n",
    "    for img in os.listdir(path):\n",
    "        img1 = load_img(os.path.join(path,img))\n",
    "        i = 0\n",
    "        for batch in datagen.flow(x, batch_size=1,save_to_dir='preview', save_prefix=img, save_format='jpeg'):\n",
    "        i += 1\n",
    "        if i > 20:\n",
    "            break "
   ]
  },
  {
   "cell_type": "code",
   "execution_count": null,
   "metadata": {
    "id": "LSh1J-50UfCW"
   },
   "outputs": [],
   "source": [
    "training_data = []\n",
    "def load_data():\n",
    "    for i in classes:\n",
    "        path = os.path.join(Data,i)\n",
    "        class_name = classes.index(i)\n",
    "        for img in os.listdir(path):\n",
    "            try:\n",
    "                img_array = cv2.imread(os.path.join(path,img))\n",
    "                new_array = cv2.resize(img_array,(img_size,img_size))\n",
    "                training_data.append([new_array,class_name])\n",
    "            except Exception as e:\n",
    "                pass"
   ]
  },
  {
   "cell_type": "code",
   "execution_count": null,
   "metadata": {
    "id": "aiAqa-X4UfLO"
   },
   "outputs": [],
   "source": [
    "load_data()"
   ]
  },
  {
   "cell_type": "code",
   "execution_count": null,
   "metadata": {
    "id": "S3rg-JFad12z"
   },
   "outputs": [],
   "source": [
    "import random \n",
    "\n",
    "random.shuffle(training_data)"
   ]
  },
  {
   "cell_type": "code",
   "execution_count": null,
   "metadata": {
    "id": "llbBT2fgd14-"
   },
   "outputs": [],
   "source": [
    "x = []\n",
    "y = []\n",
    "for i,j in training_data:\n",
    "    x.append(i)\n",
    "    y.append(j)"
   ]
  },
  {
   "cell_type": "code",
   "execution_count": null,
   "metadata": {
    "id": "fgJ_XNpId17k"
   },
   "outputs": [],
   "source": [
    "for i in x:\n",
    "  i = i/255.0"
   ]
  },
  {
   "cell_type": "code",
   "execution_count": null,
   "metadata": {
    "id": "9xWPovE7d1-J"
   },
   "outputs": [],
   "source": [
    "print(len(x))"
   ]
  },
  {
   "cell_type": "code",
   "execution_count": null,
   "metadata": {
    "id": "G2unGm8hd2Bg"
   },
   "outputs": [],
   "source": [
    "X = np.array(x).reshape(-1,img_size,img_size,3)\n",
    "Y = np.array(y)"
   ]
  },
  {
   "cell_type": "code",
   "execution_count": null,
   "metadata": {
    "colab": {
     "base_uri": "https://localhost:8080/"
    },
    "id": "70bp_tK-fk-6",
    "outputId": "3f23c044-ba5b-4c2e-89ba-9a25d6b2f717"
   },
   "outputs": [],
   "source": [
    "model = tf.keras.applications.EfficientNetB0()"
   ]
  },
  {
   "cell_type": "code",
   "execution_count": null,
   "metadata": {
    "colab": {
     "base_uri": "https://localhost:8080/"
    },
    "id": "0Bvh6gZAflBj",
    "outputId": "5acd2478-2fb4-4fc3-d6e1-60bba953c653"
   },
   "outputs": [],
   "source": [
    "model.summary()"
   ]
  },
  {
   "cell_type": "code",
   "execution_count": null,
   "metadata": {
    "id": "NY9KAGX1flE1"
   },
   "outputs": [],
   "source": [
    "i= model.layers[0].input\n",
    "o = model.layers[-2].output"
   ]
  },
  {
   "cell_type": "code",
   "execution_count": null,
   "metadata": {
    "id": "xn_QB1SpgNUG"
   },
   "outputs": [],
   "source": [
    "from tensorflow.keras import layers\n",
    "output_l = layers.Dense(128)(o)\n",
    "output_l = layers.Activation('relu')(output_l)\n",
    "output_l = layers.Dense(64)(output_l)\n",
    "output_l = layers.Activation('relu')(output_l)\n",
    "output_l = layers.Dense(7,activation='softmax')(output_l)"
   ]
  },
  {
   "cell_type": "code",
   "execution_count": null,
   "metadata": {
    "id": "NOQneRpQgNXh"
   },
   "outputs": [],
   "source": [
    "from tensorflow import keras\n",
    "new_model = keras.Model(inputs= i,outputs = output_l)"
   ]
  },
  {
   "cell_type": "code",
   "execution_count": null,
   "metadata": {
    "colab": {
     "base_uri": "https://localhost:8080/"
    },
    "id": "VyuM96S6gokz",
    "outputId": "f74b0eee-e16e-4fad-e851-e4ce1ce91d64"
   },
   "outputs": [],
   "source": [
    "new_model.summary()"
   ]
  },
  {
   "cell_type": "code",
   "execution_count": null,
   "metadata": {
    "id": "IsmYaublgonG"
   },
   "outputs": [],
   "source": [
    "opt = keras.optimizers.Adam(learning_rate=0.001)\n",
    "new_model.compile(optimizer = opt,loss='sparse_categorical_crossentropy',metrics=['accuracy'])"
   ]
  },
  {
   "cell_type": "code",
   "execution_count": null,
   "metadata": {
    "colab": {
     "base_uri": "https://localhost:8080/"
    },
    "id": "hk_uugaPgopd",
    "outputId": "2f050a76-ab49-4b73-b034-57d61da165be"
   },
   "outputs": [],
   "source": [
    "new_model.fit(X,Y,epochs = 50)"
   ]
  },
  {
   "cell_type": "code",
   "execution_count": null,
   "metadata": {
    "id": "aId4pt5ygotA"
   },
   "outputs": [],
   "source": [
    "model_json = emotion_model.to_json()\n",
    "with open(\"emotion_model(1).json\", \"w\") as json_file:\n",
    "    json_file.write(model_json)\n",
    "\n",
    "emotion_model.save_weights('emotion_model(1).h5')"
   ]
  }
 ],
 "metadata": {
  "accelerator": "GPU",
  "colab": {
   "collapsed_sections": [],
   "name": "Emotion_Detection.ipynb",
   "provenance": []
  },
  "kernelspec": {
   "display_name": "Python 3 (ipykernel)",
   "language": "python",
   "name": "python3"
  },
  "language_info": {
   "codemirror_mode": {
    "name": "ipython",
    "version": 3
   },
   "file_extension": ".py",
   "mimetype": "text/x-python",
   "name": "python",
   "nbconvert_exporter": "python",
   "pygments_lexer": "ipython3",
   "version": "3.9.12"
  }
 },
 "nbformat": 4,
 "nbformat_minor": 1
}
